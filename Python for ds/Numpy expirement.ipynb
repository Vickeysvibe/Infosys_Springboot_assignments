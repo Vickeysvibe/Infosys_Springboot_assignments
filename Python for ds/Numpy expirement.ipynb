{
 "cells": [
  {
   "cell_type": "markdown",
   "id": "f3368012",
   "metadata": {},
   "source": [
    "# PROBLEM STATEMENT"
   ]
  },
  {
   "cell_type": "markdown",
   "id": "5b831553",
   "metadata": {},
   "source": [
    "Lee decides to walk 10000 steps every day to combat the effect. that lockdown has had on his body's agility, mobility, flexibility and strength. Consider the following data from fitness tracker over a period of 10 days"
   ]
  },
  {
   "cell_type": "markdown",
   "id": "e1de0a01",
   "metadata": {},
   "source": [
    "1. Represent the above data in a 10x2 array. In each row, the first element should contain day number and second element should contain steps walked.\n",
    "2. Lee notices that the tracker's battery dies every day at 7pm. Lee discovers that on an average, he walks 2000 steps every day after 7 pm. Perform an appropriate operation on your array to add 2000 steps to all the observations.\n",
    "3. Write a program that returns the steps walked if the steps walked are more than 9000.\n",
    "4. Print an array containing steps walked in sorted order."
   ]
  },
  {
   "cell_type": "markdown",
   "id": "4b3553f3",
   "metadata": {},
   "source": [
    "# Solution"
   ]
  },
  {
   "cell_type": "markdown",
   "id": "021d7913",
   "metadata": {},
   "source": [
    "1.Represent the data in a 10x2 array"
   ]
  },
  {
   "cell_type": "code",
   "execution_count": 1,
   "id": "531a0a41",
   "metadata": {},
   "outputs": [],
   "source": [
    "import numpy as np"
   ]
  },
  {
   "cell_type": "code",
   "execution_count": 2,
   "id": "0af9e579",
   "metadata": {},
   "outputs": [],
   "source": [
    "walk=np.array([[   1, 6012],\n",
    "       [   2, 7079],\n",
    "       [   3, 6886],\n",
    "       [   4, 7230],\n",
    "       [   5, 4598],\n",
    "       [   6, 5564],\n",
    "       [   7, 6971],\n",
    "       [   8, 7763],\n",
    "       [   9, 8032],\n",
    "       [  10, 9569]])"
   ]
  },
  {
   "cell_type": "code",
   "execution_count": 3,
   "id": "8a40abdc",
   "metadata": {},
   "outputs": [
    {
     "data": {
      "text/plain": [
       "array([[   1, 6012],\n",
       "       [   2, 7079],\n",
       "       [   3, 6886],\n",
       "       [   4, 7230],\n",
       "       [   5, 4598],\n",
       "       [   6, 5564],\n",
       "       [   7, 6971],\n",
       "       [   8, 7763],\n",
       "       [   9, 8032],\n",
       "       [  10, 9569]])"
      ]
     },
     "execution_count": 3,
     "metadata": {},
     "output_type": "execute_result"
    }
   ],
   "source": [
    "walk"
   ]
  },
  {
   "cell_type": "markdown",
   "id": "5976656b",
   "metadata": {},
   "source": [
    "2.add 2000"
   ]
  },
  {
   "cell_type": "code",
   "execution_count": 4,
   "id": "b1dfb0c5",
   "metadata": {},
   "outputs": [],
   "source": [
    "walk += [0,2000]"
   ]
  },
  {
   "cell_type": "code",
   "execution_count": 5,
   "id": "35690d39",
   "metadata": {},
   "outputs": [
    {
     "data": {
      "text/plain": [
       "array([[    1,  8012],\n",
       "       [    2,  9079],\n",
       "       [    3,  8886],\n",
       "       [    4,  9230],\n",
       "       [    5,  6598],\n",
       "       [    6,  7564],\n",
       "       [    7,  8971],\n",
       "       [    8,  9763],\n",
       "       [    9, 10032],\n",
       "       [   10, 11569]])"
      ]
     },
     "execution_count": 5,
     "metadata": {},
     "output_type": "execute_result"
    }
   ],
   "source": [
    "walk"
   ]
  },
  {
   "cell_type": "markdown",
   "id": "8e753642",
   "metadata": {},
   "source": [
    "3.Select steps walked more than 9000"
   ]
  },
  {
   "cell_type": "code",
   "execution_count": 6,
   "id": "910ee48d",
   "metadata": {},
   "outputs": [],
   "source": [
    "walk_more_than_9k=walk[walk[:,1]>9000,1]"
   ]
  },
  {
   "cell_type": "code",
   "execution_count": 7,
   "id": "33a227e0",
   "metadata": {},
   "outputs": [
    {
     "data": {
      "text/plain": [
       "array([ 9079,  9230,  9763, 10032, 11569])"
      ]
     },
     "execution_count": 7,
     "metadata": {},
     "output_type": "execute_result"
    }
   ],
   "source": [
    "walk_more_than_9k"
   ]
  },
  {
   "cell_type": "markdown",
   "id": "7e7fb09a",
   "metadata": {},
   "source": [
    "4.Print the array containing steps walked in sorted order:"
   ]
  },
  {
   "cell_type": "code",
   "execution_count": 9,
   "id": "9e40100a",
   "metadata": {},
   "outputs": [],
   "source": [
    "walk_sort= walk[walk[:, 1].argsort()]"
   ]
  },
  {
   "cell_type": "code",
   "execution_count": 10,
   "id": "8d96e0af",
   "metadata": {},
   "outputs": [
    {
     "data": {
      "text/plain": [
       "array([[    5,  6598],\n",
       "       [    6,  7564],\n",
       "       [    1,  8012],\n",
       "       [    3,  8886],\n",
       "       [    7,  8971],\n",
       "       [    2,  9079],\n",
       "       [    4,  9230],\n",
       "       [    8,  9763],\n",
       "       [    9, 10032],\n",
       "       [   10, 11569]])"
      ]
     },
     "execution_count": 10,
     "metadata": {},
     "output_type": "execute_result"
    }
   ],
   "source": [
    "walk_sort"
   ]
  },
  {
   "cell_type": "code",
   "execution_count": null,
   "id": "b04e85cf",
   "metadata": {},
   "outputs": [],
   "source": []
  }
 ],
 "metadata": {
  "kernelspec": {
   "display_name": "Python 3 (ipykernel)",
   "language": "python",
   "name": "python3"
  },
  "language_info": {
   "codemirror_mode": {
    "name": "ipython",
    "version": 3
   },
   "file_extension": ".py",
   "mimetype": "text/x-python",
   "name": "python",
   "nbconvert_exporter": "python",
   "pygments_lexer": "ipython3",
   "version": "3.11.4"
  }
 },
 "nbformat": 4,
 "nbformat_minor": 5
}
